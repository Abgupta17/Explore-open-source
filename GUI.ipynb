{
 "cells": [
  {
   "cell_type": "markdown",
   "metadata": {},
   "source": [
    "# 12th Class"
   ]
  },
  {
   "cell_type": "markdown",
   "metadata": {},
   "source": [
    "## 11th AUG 2020"
   ]
  },
  {
   "cell_type": "markdown",
   "metadata": {},
   "source": [
    "# GUI"
   ]
  },
  {
   "cell_type": "markdown",
   "metadata": {},
   "source": [
    "## GUI-Graphical User Interface"
   ]
  },
  {
   "cell_type": "markdown",
   "metadata": {},
   "source": [
    "### Example 1"
   ]
  },
  {
   "cell_type": "code",
   "execution_count": null,
   "metadata": {},
   "outputs": [],
   "source": [
    "import turtle\n",
    "import time\n",
    "\n",
    "turtle.shape(\"square\")\n",
    "\n",
    "turtle.forward(50)\n",
    "\n",
    "turtle.exitonclick()"
   ]
  },
  {
   "cell_type": "code",
   "execution_count": 1,
   "metadata": {},
   "outputs": [],
   "source": [
    "import turtle\n",
    "import time\n",
    "turtle.shape(\"triangle\")\n",
    "turtle.forward(50)\n",
    "turtle.exitonclick()"
   ]
  },
  {
   "cell_type": "code",
   "execution_count": null,
   "metadata": {},
   "outputs": [],
   "source": [
    "import turtle\n",
    "import time\n",
    "turtle.shape(\"triangle\")\n",
    "turtle.color(\"red\")\n",
    "turtle.forward(50)\n",
    "time.sleep(5)\n",
    "turtle.left(180)\n",
    "turtle.color(\"green\")\n",
    "turtle.forward(100)\n",
    "turtle.exitonclick()"
   ]
  },
  {
   "cell_type": "code",
   "execution_count": 3,
   "metadata": {},
   "outputs": [],
   "source": [
    "import turtle\n",
    "import time\n",
    "turtle.shape(\"triangle\")\n",
    "turtle.color(\"red\")\n",
    "turtle.forward(50)\n",
    "time.sleep(5)\n",
    "turtle.color(\"green\")\n",
    "turtle.backward(90)\n",
    "turtle.exitonclick()\n"
   ]
  },
  {
   "cell_type": "markdown",
   "metadata": {},
   "source": [
    "### Example 2"
   ]
  },
  {
   "cell_type": "code",
   "execution_count": 1,
   "metadata": {},
   "outputs": [],
   "source": [
    "import turtle\n",
    "import time\n",
    "turtle.forward(50)\n",
    "time.sleep(2)\n",
    "turtle.backward(20)\n",
    "turtle.hideturtle()"
   ]
  },
  {
   "cell_type": "markdown",
   "metadata": {},
   "source": [
    "### Example 3"
   ]
  },
  {
   "cell_type": "code",
   "execution_count": 1,
   "metadata": {},
   "outputs": [],
   "source": [
    "import turtle\n",
    "import time\n",
    "turtle.forward(100)\n",
    "turtle.left(90)\n",
    "time.sleep(1)\n",
    "turtle.forward(100)\n",
    "turtle.left(90)\n",
    "time.sleep(1)\n",
    "turtle.forward(100)\n",
    "turtle.left(90)\n",
    "time.sleep(1)\n",
    "turtle.forward(100)\n",
    "turtle.left(90)\n",
    "time.sleep(1)\n"
   ]
  },
  {
   "cell_type": "markdown",
   "metadata": {},
   "source": [
    "### Example 4"
   ]
  },
  {
   "cell_type": "code",
   "execution_count": 1,
   "metadata": {},
   "outputs": [],
   "source": [
    "import turtle\n",
    "import time\n",
    "turtle.color(\"red\")\n",
    "turtle.forward(100)\n",
    "turtle.left(90)\n",
    "time.sleep(1)\n",
    "turtle.forward(100)\n",
    "turtle.left(90)\n",
    "time.sleep(1)\n",
    "turtle.forward(100)\n",
    "turtle.left(90)\n",
    "time.sleep(1)\n",
    "turtle.forward(100)\n",
    "turtle.left(90)\n",
    "time.sleep(1)\n"
   ]
  },
  {
   "cell_type": "markdown",
   "metadata": {},
   "source": [
    "### Example 5"
   ]
  },
  {
   "cell_type": "code",
   "execution_count": 1,
   "metadata": {},
   "outputs": [],
   "source": [
    "import turtle\n",
    "import time\n",
    "turtle.color(\"green\")\n",
    "turtle.forward(70)\n",
    "turtle.left(120)\n",
    "turtle.forward(70)\n",
    "turtle.left(120)\n",
    "turtle.forward(70)\n",
    "time.sleep(5)"
   ]
  },
  {
   "cell_type": "markdown",
   "metadata": {},
   "source": [
    "### Example 6"
   ]
  },
  {
   "cell_type": "code",
   "execution_count": null,
   "metadata": {},
   "outputs": [],
   "source": [
    "import turtle\n",
    "turtle.color(\"red\")\n",
    "turtle.circle(50)\n",
    "turtle.exitonclick()"
   ]
  },
  {
   "cell_type": "markdown",
   "metadata": {},
   "source": [
    "### Example 7"
   ]
  },
  {
   "cell_type": "code",
   "execution_count": 1,
   "metadata": {},
   "outputs": [],
   "source": [
    "import turtle as t\n",
    "import time\n",
    "t.color(\"blue\")\n",
    "t.begin_fill()\n",
    "t.circle(50)\n",
    "t.color(\"red\")\n",
    "t.end_fill()\n",
    "t.hideturtle()\n",
    "#time.sleep(5)"
   ]
  },
  {
   "cell_type": "markdown",
   "metadata": {},
   "source": [
    "### Example 8"
   ]
  },
  {
   "cell_type": "code",
   "execution_count": 1,
   "metadata": {},
   "outputs": [],
   "source": [
    "import turtle\n",
    "import time\n",
    "colors = [\"red\", \"blue\", \"yellow\", \"green\", \"purple\", \"orange\"]\n",
    "turtle.tracer(0,0)\n",
    "i = 0\n",
    "for i in range(45):\n",
    " turtle.color(colors[i%6])\n",
    " turtle.pendown()\n",
    " turtle.forward(2 + i*5)\n",
    " turtle.left(45)\n",
    " turtle.width(i) # pen width\n",
    " turtle.penup()\n",
    " time.sleep(1)\n",
    " turtle.update()\n",
    "time.sleep(2)\n"
   ]
  },
  {
   "cell_type": "markdown",
   "metadata": {},
   "source": [
    "### Example 9"
   ]
  },
  {
   "cell_type": "code",
   "execution_count": 1,
   "metadata": {},
   "outputs": [],
   "source": [
    "import turtle as t\n",
    "t.bgcolor(\"black\")\n",
    "t.color(\"white\")\n",
    "t.pensize(3)\n",
    "for angle in range(0,360, 30):\n",
    " t.seth(angle)\n",
    " t.circle(100)\n",
    "#time.sleep(4)\n"
   ]
  },
  {
   "cell_type": "code",
   "execution_count": 15,
   "metadata": {},
   "outputs": [],
   "source": [
    "import turtle\n",
    "\n",
    "def func(mx):\n",
    "    \n",
    "    f=1\n",
    "    n=len(mx)\n",
    "    tur=turtle.Turtle()\n",
    "    tur.setpos(0,0)\n",
    "    j=0\n",
    "    \n",
    "    while(j<n):\n",
    "            if (f==1):\n",
    "\n",
    "                i=0\n",
    "                while(i<=n-1):\n",
    "                    turtle.goto(i,j)\n",
    "                    i=i+10\n",
    "            if (f==0):\n",
    "                i=n-1\n",
    "                while(i>-1):\n",
    "                    turtle.goto(i,j)\n",
    "                    i=i-10\n",
    "            f=(f+1)\n",
    "            if(f==2):\n",
    "                f=0\n",
    "            j=j+10\n",
    "    turtle.done()"
   ]
  },
  {
   "cell_type": "code",
   "execution_count": null,
   "metadata": {},
   "outputs": [],
   "source": []
  },
  {
   "cell_type": "code",
   "execution_count": null,
   "metadata": {},
   "outputs": [],
   "source": []
  }
 ],
 "metadata": {
  "kernelspec": {
   "display_name": "Python 3",
   "language": "python",
   "name": "python3"
  },
  "language_info": {
   "codemirror_mode": {
    "name": "ipython",
    "version": 3
   },
   "file_extension": ".py",
   "mimetype": "text/x-python",
   "name": "python",
   "nbconvert_exporter": "python",
   "pygments_lexer": "ipython3",
   "version": "3.7.6"
  }
 },
 "nbformat": 4,
 "nbformat_minor": 4
}
